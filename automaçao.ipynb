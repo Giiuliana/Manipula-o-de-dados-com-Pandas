{
 "cells": [
  {
   "cell_type": "markdown",
   "id": "c558eb2b",
   "metadata": {},
   "source": [
    "Importar e acessar os arquivos"
   ]
  },
  {
   "cell_type": "code",
   "execution_count": 1,
   "id": "6e31d378",
   "metadata": {},
   "outputs": [],
   "source": [
    "import pandas as pd"
   ]
  },
  {
   "cell_type": "code",
   "execution_count": 2,
   "id": "36cfcb15",
   "metadata": {},
   "outputs": [],
   "source": [
    "Caminho_Planilha_carros_ano = \"tabela_carros_ano.xlsx\"\n",
    "Caminho_marca_carros = \"tabela_marca_carros.xlsx\""
   ]
  },
  {
   "cell_type": "code",
   "execution_count": 3,
   "id": "cf957aac",
   "metadata": {},
   "outputs": [],
   "source": [
    "df_carros_ano = pd.read_excel(Caminho_Planilha_carros_ano)\n",
    "df_marca_carros = pd.read_excel(Caminho_marca_carros)"
   ]
  },
  {
   "cell_type": "code",
   "execution_count": null,
   "id": "5ba15787",
   "metadata": {},
   "outputs": [],
   "source": []
  },
  {
   "cell_type": "markdown",
   "id": "d21d58c4",
   "metadata": {},
   "source": [
    "Exclui a coluna 'Marca'"
   ]
  },
  {
   "cell_type": "code",
   "execution_count": 4,
   "id": "64381e6a",
   "metadata": {},
   "outputs": [
    {
     "name": "stdout",
     "output_type": "stream",
     "text": [
      "     Nome do Carro Valor (R$)       Ano\n",
      "0             Onix      Preto  Seminovo\n",
      "1             HB20     Marrom  Seminovo\n",
      "2             Polo     Marrom  Seminovo\n",
      "3             Argo   Vermelho  Seminovo\n",
      "4               Ka      Cinza      Novo\n",
      "5          Corolla   Vermelho  Seminovo\n",
      "6            Civic      Cinza      Novo\n",
      "7          Compass     Marrom  Seminovo\n",
      "8         Renegade   Vermelho      Novo\n",
      "9            Hilux      Verde  Seminovo\n",
      "10             S10    Laranja  Seminovo\n",
      "11         Tracker      Cinza  Seminovo\n",
      "12           Creta      Preto  Seminovo\n",
      "13         T-Cross     Branco  Seminovo\n",
      "14          Cronos      Prata      Novo\n",
      "15        EcoSport     Marrom      Novo\n",
      "16           Yaris    Amarelo      Novo\n",
      "17            HR-V    Laranja      Novo\n",
      "18            Toro     Marrom      Novo\n",
      "19           Kicks     Branco      Novo\n",
      "20           Versa       Azul      Novo\n",
      "21            Spin       Azul      Novo\n",
      "22          Tucson    Amarelo  Seminovo\n",
      "23          Amarok     Branco  Seminovo\n",
      "24         Fiorino      Verde      Novo\n",
      "25          Ranger    Amarelo  Seminovo\n",
      "26             SW4    Laranja  Seminovo\n",
      "27            City      Verde      Novo\n",
      "28       Commander     Branco      Novo\n",
      "29            Mobi      Prata  Seminovo\n",
      "30           March    Laranja  Seminovo\n",
      "31          Cobalt      Prata      Novo\n",
      "32         Elantra   Vermelho      Novo\n",
      "33          Virtus      Prata      Novo\n",
      "34             Uno     Branco      Novo\n",
      "35          Fusion       Azul      Novo\n",
      "36           Prius       Azul      Novo\n",
      "37             Fit      Verde      Novo\n",
      "38  Grand Cherokee     Marrom      Novo\n",
      "39          Sentra     Marrom      Novo\n",
      "40          Duster       Azul      Novo\n",
      "41            Kwid      Prata      Novo\n",
      "42         Sandero      Preto      Novo\n",
      "43          Captur     Branco      Novo\n",
      "44           Logan   Vermelho      Novo\n",
      "45           Pulse      Verde      Novo\n",
      "46           Nivus     Branco      Novo\n",
      "47          Strada      Prata      Novo\n",
      "48           Etios    Amarelo  Seminovo\n",
      "49       Territory   Vermelho  Seminovo\n"
     ]
    }
   ],
   "source": [
    "df_carros_ano.columns = ['Nome do Carro', 'Valor (R$)', 'Ano']\n",
    "print(df_carros_ano)"
   ]
  },
  {
   "cell_type": "markdown",
   "id": "17e545d0",
   "metadata": {},
   "source": [
    "realiza a mesclagem dos dados dos dois dataframes"
   ]
  },
  {
   "cell_type": "code",
   "execution_count": 5,
   "id": "68eb86b3",
   "metadata": {},
   "outputs": [],
   "source": [
    "df_carros_ano['Nome do Carro'] = df_carros_ano['Nome do Carro'].str.strip().str.lower()\n",
    "df_marca_carros['Nome do Carro'] = df_marca_carros['Nome do Carro'].str.strip().str.lower()"
   ]
  },
  {
   "cell_type": "code",
   "execution_count": 6,
   "id": "8b9b957e",
   "metadata": {},
   "outputs": [
    {
     "name": "stdout",
     "output_type": "stream",
     "text": [
      "     Nome do Carro Valor (R$)_x     Ano_x       Marca  Valor (R$)_y  Ano_y\n",
      "0             onix        Preto  Seminovo   Chevrolet         72500   2022\n",
      "1             hb20       Marrom  Seminovo     Hyundai         70000   2021\n",
      "2             polo       Marrom  Seminovo  Volkswagen         78300   2023\n",
      "3             argo     Vermelho  Seminovo        Fiat         69900   2022\n",
      "4               ka        Cinza      Novo        Ford         60000   2020\n",
      "5          corolla     Vermelho  Seminovo      Toyota        135000   2023\n",
      "6            civic        Cinza      Novo       Honda        139900   2023\n",
      "7          compass       Marrom  Seminovo        Jeep        180000   2024\n",
      "8         renegade     Vermelho      Novo        Jeep        125000   2022\n",
      "9            hilux        Verde  Seminovo      Toyota        290000   2024\n",
      "10             s10      Laranja  Seminovo   Chevrolet        250000   2023\n",
      "11         tracker        Cinza  Seminovo   Chevrolet        130000   2022\n",
      "12           creta        Preto  Seminovo     Hyundai        135500   2023\n",
      "13         t-cross       Branco  Seminovo  Volkswagen        140000   2023\n",
      "14          cronos        Prata      Novo        Fiat         82000   2022\n",
      "15        ecosport       Marrom      Novo        Ford         95000   2020\n",
      "16           yaris      Amarelo      Novo      Toyota         94000   2022\n",
      "17            hr-v      Laranja      Novo       Honda        155000   2024\n",
      "18            toro       Marrom      Novo        Fiat        160000   2023\n",
      "19           kicks       Branco      Novo      Nissan        115000   2022\n",
      "20           versa         Azul      Novo      Nissan         98000   2021\n",
      "21            spin         Azul      Novo   Chevrolet         95500   2023\n",
      "22          tucson      Amarelo  Seminovo     Hyundai        140000   2021\n",
      "23          amarok       Branco  Seminovo  Volkswagen        260000   2024\n",
      "24         fiorino        Verde      Novo        Fiat         82000   2021\n",
      "25          ranger      Amarelo  Seminovo        Ford        270000   2024\n",
      "26             sw4      Laranja  Seminovo      Toyota        375000   2024\n",
      "27            city        Verde      Novo       Honda        110000   2022\n",
      "28       commander       Branco      Novo        Jeep        215000   2024\n",
      "29            mobi        Prata  Seminovo        Fiat         62000   2021\n",
      "30           march      Laranja  Seminovo      Nissan         58000   2020\n",
      "31          cobalt        Prata      Novo   Chevrolet         68000   2020\n",
      "32         elantra     Vermelho      Novo     Hyundai        112000   2021\n",
      "33          virtus        Prata      Novo  Volkswagen         95000   2022\n",
      "34             uno       Branco      Novo        Fiat         56000   2020\n",
      "35          fusion         Azul      Novo        Ford        150000   2020\n",
      "36           prius         Azul      Novo      Toyota        160000   2022\n",
      "37             fit        Verde      Novo       Honda         85000   2020\n",
      "38  grand cherokee       Marrom      Novo        Jeep        350000   2024\n",
      "39          sentra       Marrom      Novo      Nissan        102000   2021\n",
      "40          duster         Azul      Novo     Renault         98000   2023\n",
      "41            kwid        Prata      Novo     Renault         59900   2022\n",
      "42         sandero        Preto      Novo     Renault         68000   2021\n",
      "43          captur       Branco      Novo     Renault        108000   2023\n",
      "44           logan     Vermelho      Novo     Renault         75000   2020\n",
      "45           pulse        Verde      Novo        Fiat        110000   2023\n",
      "46           nivus       Branco      Novo  Volkswagen        122000   2023\n",
      "47          strada        Prata      Novo        Fiat         98000   2023\n",
      "48           etios      Amarelo  Seminovo      Toyota         65000   2020\n",
      "49       territory     Vermelho  Seminovo        Ford        170000   2023\n"
     ]
    }
   ],
   "source": [
    "df_merge = pd.merge(df_carros_ano, df_marca_carros, on='Nome do Carro', how='left')\n",
    "print(df_merge)"
   ]
  },
  {
   "cell_type": "markdown",
   "id": "77bb4f96",
   "metadata": {},
   "source": [
    "Renomear as colunas"
   ]
  },
  {
   "cell_type": "code",
   "execution_count": 7,
   "id": "6e5f12dd",
   "metadata": {},
   "outputs": [],
   "source": [
    "df_merge = df_merge.rename(columns={\n",
    "    'Nome do Carro Valor (R$)_x' : 'Nome do Carro',\n",
    "})"
   ]
  },
  {
   "cell_type": "code",
   "execution_count": 8,
   "id": "a8492ca9",
   "metadata": {},
   "outputs": [],
   "source": [
    "df_merge = df_merge.rename(columns={\n",
    "    'Ano_x' : 'Estado',\n",
    "})"
   ]
  },
  {
   "cell_type": "code",
   "execution_count": 9,
   "id": "f4b3c5eb",
   "metadata": {},
   "outputs": [],
   "source": [
    "df_merge = df_merge.rename(columns={\n",
    "    'Valor (R$)_y' : 'Valor (R$)',\n",
    "})"
   ]
  },
  {
   "cell_type": "code",
   "execution_count": 10,
   "id": "eace20a1",
   "metadata": {},
   "outputs": [],
   "source": [
    "df_merge = df_merge.rename(columns={\n",
    "    'Ano_y' : 'Ano',\n",
    "})"
   ]
  },
  {
   "cell_type": "markdown",
   "id": "5e2b5f91",
   "metadata": {},
   "source": [
    "Limpar células com valores em branco ou NaN"
   ]
  },
  {
   "cell_type": "code",
   "execution_count": 11,
   "id": "94ef4624",
   "metadata": {},
   "outputs": [],
   "source": [
    "df_merge = df_merge.dropna()"
   ]
  },
  {
   "cell_type": "markdown",
   "id": "b9fc75e4",
   "metadata": {},
   "source": [
    "Adiciona uma coluna com 15% de desconto sobre o valor do carro"
   ]
  },
  {
   "cell_type": "code",
   "execution_count": 12,
   "id": "a3f83271",
   "metadata": {},
   "outputs": [],
   "source": [
    "df_merge['Valor com Desconto (R$)'] = df_merge.apply(\n",
    "    lambda row: row['Valor (R$)'] * 0.9 if row['Valor (R$)'] > 50000 else row['Valor (R$)'],\n",
    "    axis=1\n",
    ")"
   ]
  },
  {
   "cell_type": "code",
   "execution_count": 13,
   "id": "d5005eb9",
   "metadata": {},
   "outputs": [
    {
     "name": "stdout",
     "output_type": "stream",
     "text": [
      "     Nome do Carro Valor (R$)_x    Estado       Marca  Valor (R$)   Ano  \\\n",
      "0             onix        Preto  Seminovo   Chevrolet       72500  2022   \n",
      "1             hb20       Marrom  Seminovo     Hyundai       70000  2021   \n",
      "2             polo       Marrom  Seminovo  Volkswagen       78300  2023   \n",
      "3             argo     Vermelho  Seminovo        Fiat       69900  2022   \n",
      "4               ka        Cinza      Novo        Ford       60000  2020   \n",
      "5          corolla     Vermelho  Seminovo      Toyota      135000  2023   \n",
      "6            civic        Cinza      Novo       Honda      139900  2023   \n",
      "7          compass       Marrom  Seminovo        Jeep      180000  2024   \n",
      "8         renegade     Vermelho      Novo        Jeep      125000  2022   \n",
      "9            hilux        Verde  Seminovo      Toyota      290000  2024   \n",
      "10             s10      Laranja  Seminovo   Chevrolet      250000  2023   \n",
      "11         tracker        Cinza  Seminovo   Chevrolet      130000  2022   \n",
      "12           creta        Preto  Seminovo     Hyundai      135500  2023   \n",
      "13         t-cross       Branco  Seminovo  Volkswagen      140000  2023   \n",
      "14          cronos        Prata      Novo        Fiat       82000  2022   \n",
      "15        ecosport       Marrom      Novo        Ford       95000  2020   \n",
      "16           yaris      Amarelo      Novo      Toyota       94000  2022   \n",
      "17            hr-v      Laranja      Novo       Honda      155000  2024   \n",
      "18            toro       Marrom      Novo        Fiat      160000  2023   \n",
      "19           kicks       Branco      Novo      Nissan      115000  2022   \n",
      "20           versa         Azul      Novo      Nissan       98000  2021   \n",
      "21            spin         Azul      Novo   Chevrolet       95500  2023   \n",
      "22          tucson      Amarelo  Seminovo     Hyundai      140000  2021   \n",
      "23          amarok       Branco  Seminovo  Volkswagen      260000  2024   \n",
      "24         fiorino        Verde      Novo        Fiat       82000  2021   \n",
      "25          ranger      Amarelo  Seminovo        Ford      270000  2024   \n",
      "26             sw4      Laranja  Seminovo      Toyota      375000  2024   \n",
      "27            city        Verde      Novo       Honda      110000  2022   \n",
      "28       commander       Branco      Novo        Jeep      215000  2024   \n",
      "29            mobi        Prata  Seminovo        Fiat       62000  2021   \n",
      "30           march      Laranja  Seminovo      Nissan       58000  2020   \n",
      "31          cobalt        Prata      Novo   Chevrolet       68000  2020   \n",
      "32         elantra     Vermelho      Novo     Hyundai      112000  2021   \n",
      "33          virtus        Prata      Novo  Volkswagen       95000  2022   \n",
      "34             uno       Branco      Novo        Fiat       56000  2020   \n",
      "35          fusion         Azul      Novo        Ford      150000  2020   \n",
      "36           prius         Azul      Novo      Toyota      160000  2022   \n",
      "37             fit        Verde      Novo       Honda       85000  2020   \n",
      "38  grand cherokee       Marrom      Novo        Jeep      350000  2024   \n",
      "39          sentra       Marrom      Novo      Nissan      102000  2021   \n",
      "40          duster         Azul      Novo     Renault       98000  2023   \n",
      "41            kwid        Prata      Novo     Renault       59900  2022   \n",
      "42         sandero        Preto      Novo     Renault       68000  2021   \n",
      "43          captur       Branco      Novo     Renault      108000  2023   \n",
      "44           logan     Vermelho      Novo     Renault       75000  2020   \n",
      "45           pulse        Verde      Novo        Fiat      110000  2023   \n",
      "46           nivus       Branco      Novo  Volkswagen      122000  2023   \n",
      "47          strada        Prata      Novo        Fiat       98000  2023   \n",
      "48           etios      Amarelo  Seminovo      Toyota       65000  2020   \n",
      "49       territory     Vermelho  Seminovo        Ford      170000  2023   \n",
      "\n",
      "    Valor com Desconto (R$)  \n",
      "0                   65250.0  \n",
      "1                   63000.0  \n",
      "2                   70470.0  \n",
      "3                   62910.0  \n",
      "4                   54000.0  \n",
      "5                  121500.0  \n",
      "6                  125910.0  \n",
      "7                  162000.0  \n",
      "8                  112500.0  \n",
      "9                  261000.0  \n",
      "10                 225000.0  \n",
      "11                 117000.0  \n",
      "12                 121950.0  \n",
      "13                 126000.0  \n",
      "14                  73800.0  \n",
      "15                  85500.0  \n",
      "16                  84600.0  \n",
      "17                 139500.0  \n",
      "18                 144000.0  \n",
      "19                 103500.0  \n",
      "20                  88200.0  \n",
      "21                  85950.0  \n",
      "22                 126000.0  \n",
      "23                 234000.0  \n",
      "24                  73800.0  \n",
      "25                 243000.0  \n",
      "26                 337500.0  \n",
      "27                  99000.0  \n",
      "28                 193500.0  \n",
      "29                  55800.0  \n",
      "30                  52200.0  \n",
      "31                  61200.0  \n",
      "32                 100800.0  \n",
      "33                  85500.0  \n",
      "34                  50400.0  \n",
      "35                 135000.0  \n",
      "36                 144000.0  \n",
      "37                  76500.0  \n",
      "38                 315000.0  \n",
      "39                  91800.0  \n",
      "40                  88200.0  \n",
      "41                  53910.0  \n",
      "42                  61200.0  \n",
      "43                  97200.0  \n",
      "44                  67500.0  \n",
      "45                  99000.0  \n",
      "46                 109800.0  \n",
      "47                  88200.0  \n",
      "48                  58500.0  \n",
      "49                 153000.0  \n"
     ]
    }
   ],
   "source": [
    "print(df_merge)"
   ]
  },
  {
   "cell_type": "markdown",
   "id": "44b670fd",
   "metadata": {},
   "source": [
    "Salva os dados de Df_merge em uma nova planilha do excel"
   ]
  },
  {
   "cell_type": "code",
   "execution_count": 14,
   "id": "483ec782",
   "metadata": {},
   "outputs": [],
   "source": [
    "df_merge.to_excel('tabela_carros_ano_atualizada.xlsx', index=False)"
   ]
  }
 ],
 "metadata": {
  "kernelspec": {
   "display_name": "Python 3",
   "language": "python",
   "name": "python3"
  },
  "language_info": {
   "codemirror_mode": {
    "name": "ipython",
    "version": 3
   },
   "file_extension": ".py",
   "mimetype": "text/x-python",
   "name": "python",
   "nbconvert_exporter": "python",
   "pygments_lexer": "ipython3",
   "version": "3.12.4"
  }
 },
 "nbformat": 4,
 "nbformat_minor": 5
}
